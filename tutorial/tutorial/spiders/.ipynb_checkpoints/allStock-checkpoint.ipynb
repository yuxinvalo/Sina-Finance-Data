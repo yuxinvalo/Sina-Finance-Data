{
 "cells": [
  {
   "cell_type": "code",
   "execution_count": null,
   "metadata": {
    "collapsed": true
   },
   "outputs": [],
   "source": [
    "import scrapy\n",
    "\n",
    "class AllStocks(scrapy.Spider):\n",
    "    name = \"allStocks\"\n",
    "    def start_requests(self):\n",
    "        pages = 100\n",
    "        urls = [pages]\n",
    "        for i in range(0, pages):\n",
    "            urls[i] = 'http://stock.finance.sina.com.cn/\\\n",
    "            usstock/api/jsonp.php//US_CategoryService.getList?page=' + (i+1) + \\\n",
    "            '&num=20&sort=&asc=0&market=&id='\n",
    "            \n",
    "        yield scrapy.Request(url=urls[0], callback=self.parse)\n",
    "        \n",
    "    def parse(self, response):\n",
    "        filename = \"allStocks.txt\"\n",
    "        open(filename, 'w').write(response.body)\n",
    "            "
   ]
  }
 ],
 "metadata": {
  "kernelspec": {
   "display_name": "Python 3",
   "language": "python",
   "name": "python3"
  },
  "language_info": {
   "codemirror_mode": {
    "name": "ipython",
    "version": 3
   },
   "file_extension": ".py",
   "mimetype": "text/x-python",
   "name": "python",
   "nbconvert_exporter": "python",
   "pygments_lexer": "ipython3",
   "version": "3.6.3"
  }
 },
 "nbformat": 4,
 "nbformat_minor": 2
}
